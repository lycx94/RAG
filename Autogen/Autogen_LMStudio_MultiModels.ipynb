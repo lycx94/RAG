{
 "cells": [
  {
   "cell_type": "code",
   "execution_count": null,
   "metadata": {},
   "outputs": [],
   "source": [
    "import autogen"
   ]
  },
  {
   "cell_type": "code",
   "execution_count": null,
   "metadata": {},
   "outputs": [],
   "source": [
    "gemma = {\n",
    "    \"config_list\": [\n",
    "        {\n",
    "            \"model\": \"bartowski/gemma-2-9b-it-GGUF/gemma-2-9b-it-IQ2_XS.gguf\", # API model identifier from lm-studio\n",
    "            \"base_url\": \"http://localhost:1234/v1\",\n",
    "            \"api_key\": \"lm-studio\",\n",
    "        },\n",
    "    ],\n",
    "    \"cache_seed\": None,\n",
    "}\n",
    "\n",
    "llama = {\n",
    "    \"config_list\": [\n",
    "        {\n",
    "            \"model\": \"bartowski/Meta-Llama-3.1-8B-Instruct-GGUF/Meta-Llama-3.1-8B-Instruct-IQ2_M.gguf\", # API model identifier from lm-studio\n",
    "            \"base_url\": \"http://localhost:1234/v1\",\n",
    "            \"api_key\": \"lm-studio\",\n",
    "        },\n",
    "    ],\n",
    "    \"cache_seed\": None,\n",
    "}\n"
   ]
  },
  {
   "cell_type": "code",
   "execution_count": null,
   "metadata": {},
   "outputs": [],
   "source": [
    "\n",
    "agent1 = autogen.ConversableAgent(\n",
    "    \"Pro-Nuclear Power\",\n",
    "    llm_config=gemma,\n",
    "    system_message=\"Your name is Gina. You are an advocate for nuclear power.\",\n",
    ")\n",
    "\n",
    "agent2 = autogen.ConversableAgent(\n",
    "    \"Anti-Solar Power\",\n",
    "    llm_config=llama,\n",
    "    system_message=\"Your name is Jake. You are a critic of solar power.\",\n",
    ")\n"
   ]
  },
  {
   "cell_type": "code",
   "execution_count": null,
   "metadata": {},
   "outputs": [],
   "source": [
    "\n",
    "chat_result = agent1.initiate_chat(agent2, \n",
    "                                  message=\"Nuclear power provides reliable, high-density energy with minimal carbon emissions.\", \n",
    "                                  max_turns=2)"
   ]
  },
  {
   "cell_type": "code",
   "execution_count": null,
   "metadata": {},
   "outputs": [],
   "source": [
    "print(\"Summary:\", chat_result.summary)"
   ]
  },
  {
   "cell_type": "code",
   "execution_count": null,
   "metadata": {},
   "outputs": [],
   "source": []
  }
 ],
 "metadata": {
  "kernelspec": {
   "display_name": "venv",
   "language": "python",
   "name": "python3"
  },
  "language_info": {
   "codemirror_mode": {
    "name": "ipython",
    "version": 3
   },
   "file_extension": ".py",
   "mimetype": "text/x-python",
   "name": "python",
   "nbconvert_exporter": "python",
   "pygments_lexer": "ipython3",
   "version": "3.11.0"
  }
 },
 "nbformat": 4,
 "nbformat_minor": 2
}
